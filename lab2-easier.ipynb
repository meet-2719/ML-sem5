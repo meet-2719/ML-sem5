import numpy as np
import matplotlib.pyplot as plt
import pandas as pd


theta = np.random.rand(1)
theta = theta *500;


def gradient_descent_for_theta_square(theta,alpha):
  for i in range (10000):
    theta = theta - alpha*(2*theta)
  return theta

alpha = 0.1
theta = gradient_descent_for_theta_square(theta,alpha)
print(theta)



alpha = 0.01
theta = gradient_descent_for_theta_square(theta,alpha)
print(theta)

#second question of part 1

# initialising the values of theta1 and theta2 as random
theta = np.random.rand(2,1)



def gradient_descent_for_t1_t2(alpha,theta):
  for i in range(10000):
    temp = theta
    theta = theta- alpha*(temp)
  return theta

alpha = 0.01
#theta = np.random.rand(2,1)
theta = gradient_descent_for_t1_t2(theta,alpha)

print(theta)

# 3rd question of the 1st question


#initialising theta with random values
theta= np.random.rand()

def gradient_descent_for_q1_3(alpha,theta,iterations):
  for i in range(iterations):
    temp = 2*(theta-1)    
    theta = theta - alpha*(temp)
  return theta

alpha = 0.01
iterations= 10000
theta= gradient_descent_for_q1_3(alpha,theta,iterations)
print(theta)



#quetions 4 of question 1
#L4(θ) = 2(θ1-1)2 + 2(θ2-1)2

def gradient_descent_for_q1_4(alpha,theta,iterations):
  for i in range(iterations):
    temp = 4*(theta-1)
    theta=  theta - alpha *temp;
  return theta
  

theta= np.random.rand(2,1)
alpha = 0.01
iterations= 1000
theta= gradient_descent_for_q1_4(alpha,theta,iterations)
print(theta)

# q1 part 5
#last labs data file

data= pd.read_excel('data for Problem1(2).xlsx')
data =data.values
x= data[:,0]
x = (x - np.mean(x))/np.std(x)

y= data[:,1]
y= y.reshape(94,1)

o= np.ones((x.shape[0],1))
X= np.column_stack((o, x))  #input in created
print(X.shape)



def gradient_descent_for_q1_5(alpha,theta,iterations,x,y):
  for i in range(iterations):
    temp = y- np.matmul(X,theta)
    temp2= np.matmul(X.transpose(),temp)
    theta = theta + alpha*temp2/X.shape[0]
  return theta

theta = np.random.rand(2,1)
alpha= 0.01
iterations= 10000
theta = gradient_descent_for_q1_5(alpha,theta,iterations,x,y)
print(theta)


# question 2 

def gradient_descent_for_q1_5(alpha,theta,iterations,x,y):

  for i in range(iterations):
    
    t= np.random.randint(0,93)
    
    var = x[t,:]
    var = var.reshape(1,2)
    
    x1 = y[t,:] - np.matmul(var,theta)
    
    x2 = var.transpose() * x1
    
    theta = theta + (alpha*x2)
    
  return theta

theta = np.random.rand(2,1)
alpha= (0.01/94)
iterations= 1000000
theta = gradient_descent_for_q1_5(alpha,theta,iterations,X,y)
print(theta)
