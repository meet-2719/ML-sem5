import numpy as np
import matplotlib.pyplot as plt
import pandas as pd
import math


#creating the data sets
k=1000
upper_limit = ((2*np.pi)/(1.5*1000))*k

data_points=1000
step_size= 1/data_points
x= np.arange(0,upper_limit,step_size)

print(type(x))

def true_function(x):
  return x + 2*math.sin(1.5*x)


def hypothesis(x,y):
    x_xt = np.matmul(np.transpose(x),x)
    x_xt_inv = np.linalg.pinv(x_xt)
    theta =   np.matmul( x_xt_inv,y)
    return theta
                   
    

#adding Gaussian Noise into the data points

#finding the corresponding values of output points for the respective input parameters for the given true function
y = true_function(X)
#plt.plot(X,y)
mu =0
std= 2
for i in range(1000):
  noise=np.random.randn(1,1000)
  #y+=noise
  

